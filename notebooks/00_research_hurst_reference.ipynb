{
  "cells": [
    {
      "cell_type": "markdown",
      "metadata": {},
      "source": [
        "# Hurst Exponent Research Notebook\n",
        "\n",
        "Placeholder for Hurst exponent research and validation.\n",
        "\n",
        "## TODO\n",
        "- Test Hurst implementations on real crypto data\n",
        "- Compare R/S vs DFA methods\n",
        "- Validate against known regimes\n",
        "- Explore optimal window parameters\n"
      ]
    }
  ],
  "metadata": {
    "language_info": {
      "name": "python"
    }
  },
  "nbformat": 4,
  "nbformat_minor": 2
}
